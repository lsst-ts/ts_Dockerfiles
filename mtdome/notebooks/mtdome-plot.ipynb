{
 "cells": [
  {
   "cell_type": "code",
   "execution_count": null,
   "id": "99317967-9fbf-4034-aa5f-0ef30f7fa11c",
   "metadata": {
    "tags": []
   },
   "outputs": [],
   "source": [
    "import asyncio\n",
    "import matplotlib.pyplot as plt\n",
    "from lsst.ts import salobj, utils\n",
    "from lsst.ts.idl.enums.MTDome import SubSystemId\n",
    "%matplotlib widget\n",
    "\n",
    "# Create the plot\n",
    "fig, axes = plt.subplots(nrows=1, ncols=2)\n",
    "ax0, ax1 = axes.flatten()\n",
    "fig.canvas.toolbar_visible = False\n",
    "fig.canvas.header_visible = False\n",
    "fig.canvas.resizable = False\n",
    "hfig = display(fig, display_id=True)\n",
    "fig.canvas.draw()\n",
    "\n",
    "# Quantities to plot\n",
    "time=[]\n",
    "position=[]\n",
    "velocity=[]\n",
    "\n",
    "# Initialize MTDome and set to ENABLED\n",
    "domain = salobj.Domain()\n",
    "dome = salobj.Remote(domain=domain, name=\"MTDome\")\n",
    "await dome.start_task\n",
    "await dome.cmd_start.set_start(timeout=20, settingsToApply=\"eie\")\n",
    "await salobj.set_summary_state(remote=dome, state=salobj.State.ENABLED, settingsToApply=\"eie\")\n",
    "\n",
    "# Utility function to plot the position and velocity against time\n",
    "async def update():\n",
    "    start_time = utils.current_tai() - 37\n",
    "    while True:\n",
    "        az_status = await dome.tel_azimuth.next(flush=True)\n",
    "        time.append(az_status.timestamp - start_time)\n",
    "        position.append(az_status.positionActual)\n",
    "        velocity.append(az_status.velocityActual)\n",
    "        ax0.clear()\n",
    "        ax0.plot(time, position)\n",
    "        ax1.clear()\n",
    "        ax1.plot(time, velocity)\n",
    "        hfig.update(fig)\n",
    "\n",
    "# Create a task to update the plot frequently\n",
    "loop = asyncio.get_event_loop()\n",
    "loop.create_task(update())"
   ]
  },
  {
   "cell_type": "code",
   "execution_count": null,
   "id": "b0d90065-ab95-46c6-a38d-a465f403514a",
   "metadata": {},
   "outputs": [],
   "source": [
    "await dome.cmd_moveAz.set_start(position=30, velocity=0.01)"
   ]
  },
  {
   "cell_type": "code",
   "execution_count": null,
   "id": "e0ffcb23-6242-4ae4-8a6e-044e5e2864ab",
   "metadata": {},
   "outputs": [],
   "source": [
    "await dome.cmd_moveAz.set_start(position=40, velocity=0.001)"
   ]
  },
  {
   "cell_type": "code",
   "execution_count": null,
   "id": "7693ff20-a9b2-453b-8dc4-a1c8f462a995",
   "metadata": {},
   "outputs": [],
   "source": [
    "sub_system_ids = SubSystemId.AMCS\n",
    "await dome.cmd_stop.set_start(engageBrakes=False, subSystemIds=sub_system_ids)"
   ]
  },
  {
   "cell_type": "code",
   "execution_count": null,
   "id": "b3926dc4-bcce-45d6-93ab-c042c320b893",
   "metadata": {},
   "outputs": [],
   "source": [
    "await dome.cmd_moveAz.set_start(position=45, velocity=0.001)"
   ]
  },
  {
   "cell_type": "code",
   "execution_count": null,
   "id": "4b154266-93fd-410e-b51c-d614e4f0d857",
   "metadata": {},
   "outputs": [],
   "source": [
    "await dome.cmd_park.set_start()"
   ]
  },
  {
   "cell_type": "code",
   "execution_count": null,
   "id": "04244884-705e-4175-ba8a-876577c8d7e2",
   "metadata": {},
   "outputs": [],
   "source": [
    "await salobj.set_summary_state(remote=dome, state=salobj.State.DISABLED)\n",
    "await salobj.set_summary_state(remote=dome, state=salobj.State.OFFLINE)\n",
    "await dome.close()\n",
    "await domain.close()"
   ]
  },
  {
   "cell_type": "code",
   "execution_count": null,
   "id": "57aa07eb-72e8-48a4-afb6-8bca5e28447a",
   "metadata": {},
   "outputs": [],
   "source": []
  }
 ],
 "metadata": {
  "kernelspec": {
   "display_name": "Python 3 (ipykernel)",
   "language": "python",
   "name": "python3"
  },
  "language_info": {
   "codemirror_mode": {
    "name": "ipython",
    "version": 3
   },
   "file_extension": ".py",
   "mimetype": "text/x-python",
   "name": "python",
   "nbconvert_exporter": "python",
   "pygments_lexer": "ipython3",
   "version": "3.8.11"
  }
 },
 "nbformat": 4,
 "nbformat_minor": 5
}
